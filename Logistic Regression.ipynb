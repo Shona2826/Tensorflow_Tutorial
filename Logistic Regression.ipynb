{
 "cells": [
  {
   "cell_type": "markdown",
   "metadata": {},
   "source": [
    "<h2>Logistic Regression</h2>\n"
   ]
  },
  {
   "cell_type": "code",
   "execution_count": 2,
   "metadata": {},
   "outputs": [],
   "source": [
    "import tensorflow as tf\n",
    "import pandas as pd\n",
    "import numpy as np\n",
    "import time\n",
    "from sklearn.datasets import load_iris\n",
    "from sklearn.model_selection import train_test_split\n",
    "import matplotlib.pyplot as plt\n"
   ]
  },
  {
   "cell_type": "code",
   "execution_count": 32,
   "metadata": {},
   "outputs": [],
   "source": [
    "iris = load_iris()\n",
    "iris_X, iris_y = iris.data[:-1,:], iris.target[:-1]\n",
    "iris_y= pd.get_dummies(iris_y).values\n",
    "trainX, testX, trainY, testY = train_test_split(iris_X, iris_y, test_size=0.33, random_state=42)"
   ]
  },
  {
   "cell_type": "code",
   "execution_count": 33,
   "metadata": {},
   "outputs": [
    {
     "data": {
      "text/plain": [
       "4"
      ]
     },
     "execution_count": 33,
     "metadata": {},
     "output_type": "execute_result"
    }
   ],
   "source": [
    "#numfeatures is the number of features in the input data\n",
    "numFeatures = trainX.shape[1]\n",
    "numFeatures"
   ]
  },
  {
   "cell_type": "code",
   "execution_count": 34,
   "metadata": {},
   "outputs": [
    {
     "data": {
      "text/plain": [
       "3"
      ]
     },
     "execution_count": 34,
     "metadata": {},
     "output_type": "execute_result"
    }
   ],
   "source": [
    "#numlabels is the number of classes our data points can be\n",
    "numLabels = trainY.shape[1]\n",
    "\n",
    "numLabels"
   ]
  },
  {
   "cell_type": "code",
   "execution_count": 41,
   "metadata": {},
   "outputs": [
    {
     "data": {
      "text/plain": [
       "<tf.Tensor 'Placeholder_17:0' shape=(?, 3) dtype=float32>"
      ]
     },
     "execution_count": 41,
     "metadata": {},
     "output_type": "execute_result"
    }
   ],
   "source": [
    "#placeholders\n",
    "#'None' means tensorflow shouldn;t expect  a fixed number in that dimension\n",
    "X = tf.placeholder(tf.float32,[None,numFeatures])\n",
    "\n",
    "yGold = tf.placeholder(tf.float32,[None,numLabels])\n",
    "\n",
    "yGold"
   ]
  },
  {
   "cell_type": "code",
   "execution_count": 46,
   "metadata": {},
   "outputs": [],
   "source": [
    "W = tf.Variable(tf.zeros([4,3]))\n",
    "b = tf.Variable(tf.zeros([3]))\n"
   ]
  },
  {
   "cell_type": "code",
   "execution_count": 52,
   "metadata": {},
   "outputs": [],
   "source": [
    "weights = tf.Variable(tf.random_normal([numFeatures,numLabels],\n",
    "                                       mean=0,\n",
    "                                       stddev=0.01,\n",
    "                                       name=\"weights\"))\n",
    "bias = tf.Variable(tf.random_normal([1,numLabels],\n",
    "                                    mean= 0,\n",
    "                                    stddev = 0.01,\n",
    "                                    name = \"bias\"))\n"
   ]
  },
  {
   "cell_type": "code",
   "execution_count": 53,
   "metadata": {},
   "outputs": [],
   "source": [
    "apply_weights_OP = tf.matmul(X,weights,name = \"apply_weights\")\n",
    "add_bias_OP = tf.add(apply_weights_OP , bias, name = \"add_bias\")\n",
    "activation_OP = tf.nn.sigmoid(add_bias_OP, name = \"activation\")"
   ]
  },
  {
   "cell_type": "code",
   "execution_count": 63,
   "metadata": {},
   "outputs": [
    {
     "data": {
      "text/plain": [
       "<tf.Tensor 'ExponentialDecay_9:0' shape=() dtype=float32>"
      ]
     },
     "execution_count": 63,
     "metadata": {},
     "output_type": "execute_result"
    }
   ],
   "source": [
    "numEpochs = 700\n",
    "# decayed_learning_rate = learning_rate *\n",
    "#                         decay_rate ^ (global_step / decay_steps)\n",
    "learningRate = tf.train.exponential_decay(learning_rate = 0.0008,\n",
    "                                         global_step =1,\n",
    "                                         decay_steps = trainX.shape[0],\n",
    "                                         decay_rate = 0.95,\n",
    "                                         staircase = True)\n",
    "learningRate"
   ]
  },
  {
   "cell_type": "code",
   "execution_count": 66,
   "metadata": {},
   "outputs": [],
   "source": [
    "#defining cost function\n",
    "cost_OP = tf.nn.l2_loss(activation_OP-yGold, name=\"squared_error_cost\")\n",
    "\n",
    "#defining Gradient Descent\n",
    "training_OP = tf.train.GradientDescentOptimizer(learningRate).minimize(cost_OP)\n"
   ]
  },
  {
   "cell_type": "code",
   "execution_count": 67,
   "metadata": {},
   "outputs": [],
   "source": [
    "sess = tf.Session()\n",
    "\n",
    "#initialize our weights and variables.\n",
    "init_OP = tf.global_variables_initializer()\n",
    "sess.run(init_OP)"
   ]
  },
  {
   "cell_type": "code",
   "execution_count": 76,
   "metadata": {},
   "outputs": [
    {
     "data": {
      "text/plain": [
       "<tensorflow.python.summary.writer.writer.FileWriter at 0x11f9840bf60>"
      ]
     },
     "execution_count": 76,
     "metadata": {},
     "output_type": "execute_result"
    }
   ],
   "source": [
    "# argmax(activation_OP, 1) returns the label with the most probability\n",
    "# argmax(yGold, 1) is the correct label\n",
    "correct_predictions_OP = tf.equal(tf.argmax(activation_OP,1),tf.argmax(yGold,1))\n",
    "\n",
    "# If every false prediction is 0 and every true prediction is 1, the average returns us the accuracy\n",
    "accuracy_OP = tf.reduce_mean(tf.cast(correct_predictions_OP, \"float\"))\n",
    "\n",
    "# Summary op for regression output\n",
    "activation_summary_OP = tf.summary.histogram(\"output\", activation_OP)\n",
    "\n",
    "# Summary op for accuracy\n",
    "accuracy_summary_OP = tf.summary.scalar(\"accuracy\", accuracy_OP)\n",
    "\n",
    "# Summary op for cost\n",
    "cost_summary_OP = tf.summary.scalar(\"cost\", cost_OP)\n",
    "activation_summary_OP\n",
    "\n",
    "# Summary ops to check how variables (W, b) are updating after each iteration\n",
    "weightSummary = tf.summary.histogram(\"weights\", weights.eval(session=sess))\n",
    "biasSummary = tf.summary.histogram(\"biases\", bias.eval(session=sess))\n",
    "\n",
    "# Merge all summaries\n",
    "merged = tf.summary.merge([activation_summary_OP, accuracy_summary_OP, cost_summary_OP, weightSummary, biasSummary])\n",
    "\n",
    "# Summary writer\n",
    "writer = tf.summary.FileWriter(\"summary_logs\", sess.graph)\n",
    "\n",
    "writer"
   ]
  },
  {
   "cell_type": "code",
   "execution_count": 93,
   "metadata": {},
   "outputs": [
    {
     "name": "stdout",
     "output_type": "stream",
     "text": [
      "step 0, training accuracy 0.949495, cost 11.2869, change in cost 11.2869\n",
      "step 10, training accuracy 0.949495, cost 11.2844, change in cost 0.00243092\n",
      "step 20, training accuracy 0.949495, cost 11.282, change in cost 0.00242519\n",
      "step 30, training accuracy 0.949495, cost 11.2796, change in cost 0.00241756\n",
      "step 40, training accuracy 0.949495, cost 11.2772, change in cost 0.00240993\n",
      "step 50, training accuracy 0.949495, cost 11.2748, change in cost 0.00240421\n",
      "step 60, training accuracy 0.949495, cost 11.2724, change in cost 0.00239563\n",
      "step 70, training accuracy 0.949495, cost 11.27, change in cost 0.002388\n",
      "step 80, training accuracy 0.949495, cost 11.2676, change in cost 0.00238228\n",
      "step 90, training accuracy 0.949495, cost 11.2652, change in cost 0.00237274\n",
      "step 100, training accuracy 0.949495, cost 11.2629, change in cost 0.00236797\n",
      "step 110, training accuracy 0.949495, cost 11.2605, change in cost 0.00235939\n",
      "step 120, training accuracy 0.949495, cost 11.2582, change in cost 0.00235271\n",
      "step 130, training accuracy 0.949495, cost 11.2558, change in cost 0.00234699\n",
      "step 140, training accuracy 0.949495, cost 11.2535, change in cost 0.00233936\n",
      "step 150, training accuracy 0.949495, cost 11.2511, change in cost 0.00233078\n",
      "step 160, training accuracy 0.949495, cost 11.2488, change in cost 0.00232601\n",
      "step 170, training accuracy 0.949495, cost 11.2465, change in cost 0.00231743\n",
      "step 180, training accuracy 0.949495, cost 11.2442, change in cost 0.00231266\n",
      "step 190, training accuracy 0.949495, cost 11.2419, change in cost 0.00230408\n",
      "step 200, training accuracy 0.949495, cost 11.2396, change in cost 0.00229836\n",
      "step 210, training accuracy 0.949495, cost 11.2373, change in cost 0.00229073\n",
      "step 220, training accuracy 0.949495, cost 11.235, change in cost 0.002285\n",
      "step 230, training accuracy 0.949495, cost 11.2327, change in cost 0.00227737\n",
      "step 240, training accuracy 0.949495, cost 11.2305, change in cost 0.00227165\n",
      "step 250, training accuracy 0.949495, cost 11.2282, change in cost 0.00226498\n",
      "step 260, training accuracy 0.949495, cost 11.2259, change in cost 0.00225735\n",
      "step 270, training accuracy 0.949495, cost 11.2237, change in cost 0.00225067\n",
      "step 280, training accuracy 0.949495, cost 11.2214, change in cost 0.0022459\n",
      "step 290, training accuracy 0.949495, cost 11.2192, change in cost 0.00223923\n",
      "step 300, training accuracy 0.949495, cost 11.217, change in cost 0.00223064\n",
      "step 310, training accuracy 0.949495, cost 11.2147, change in cost 0.00222683\n",
      "step 320, training accuracy 0.949495, cost 11.2125, change in cost 0.0022192\n",
      "step 330, training accuracy 0.949495, cost 11.2103, change in cost 0.00221348\n",
      "step 340, training accuracy 0.949495, cost 11.2081, change in cost 0.0022068\n",
      "step 350, training accuracy 0.949495, cost 11.2059, change in cost 0.00220108\n",
      "step 360, training accuracy 0.949495, cost 11.2037, change in cost 0.00219345\n",
      "step 370, training accuracy 0.949495, cost 11.2015, change in cost 0.00218678\n",
      "step 380, training accuracy 0.949495, cost 11.1993, change in cost 0.00218391\n",
      "step 390, training accuracy 0.949495, cost 11.1972, change in cost 0.00217628\n",
      "step 400, training accuracy 0.949495, cost 11.195, change in cost 0.00216961\n",
      "step 410, training accuracy 0.949495, cost 11.1928, change in cost 0.00216293\n",
      "step 420, training accuracy 0.949495, cost 11.1907, change in cost 0.00215816\n",
      "step 430, training accuracy 0.949495, cost 11.1885, change in cost 0.00214958\n",
      "step 440, training accuracy 0.949495, cost 11.1864, change in cost 0.00214672\n",
      "step 450, training accuracy 0.949495, cost 11.1842, change in cost 0.00213909\n",
      "step 460, training accuracy 0.949495, cost 11.1821, change in cost 0.00213242\n",
      "step 470, training accuracy 0.949495, cost 11.18, change in cost 0.00212955\n",
      "step 480, training accuracy 0.949495, cost 11.1779, change in cost 0.00212193\n",
      "step 490, training accuracy 0.949495, cost 11.1757, change in cost 0.00211525\n",
      "step 500, training accuracy 0.949495, cost 11.1736, change in cost 0.00210953\n",
      "step 510, training accuracy 0.949495, cost 11.1715, change in cost 0.00210381\n",
      "step 520, training accuracy 0.949495, cost 11.1694, change in cost 0.00209904\n",
      "step 530, training accuracy 0.949495, cost 11.1673, change in cost 0.00209236\n",
      "step 540, training accuracy 0.949495, cost 11.1652, change in cost 0.00208664\n",
      "step 550, training accuracy 0.949495, cost 11.1632, change in cost 0.00208282\n",
      "step 560, training accuracy 0.949495, cost 11.1611, change in cost 0.0020752\n",
      "step 570, training accuracy 0.949495, cost 11.159, change in cost 0.00206852\n",
      "step 580, training accuracy 0.949495, cost 11.157, change in cost 0.0020647\n",
      "step 590, training accuracy 0.949495, cost 11.1549, change in cost 0.00205994\n",
      "step 600, training accuracy 0.949495, cost 11.1528, change in cost 0.00205421\n",
      "step 610, training accuracy 0.949495, cost 11.1508, change in cost 0.00204754\n",
      "step 620, training accuracy 0.949495, cost 11.1488, change in cost 0.00204182\n",
      "step 630, training accuracy 0.949495, cost 11.1467, change in cost 0.00203609\n",
      "step 640, training accuracy 0.949495, cost 11.1447, change in cost 0.00203133\n",
      "step 650, training accuracy 0.949495, cost 11.1427, change in cost 0.00202656\n",
      "step 660, training accuracy 0.949495, cost 11.1406, change in cost 0.00202084\n",
      "step 670, training accuracy 0.949495, cost 11.1386, change in cost 0.00201321\n",
      "step 680, training accuracy 0.949495, cost 11.1366, change in cost 0.00201035\n",
      "step 690, training accuracy 0.949495, cost 11.1346, change in cost 0.00200462\n",
      "final accuracy on test set: 1.0\n"
     ]
    }
   ],
   "source": [
    "#intializing\n",
    "cost = 0\n",
    "diff =1\n",
    "epoch_values = []\n",
    "accuracy_values = []\n",
    "cost_values = []\n",
    "\n",
    "# Training epochs\n",
    "for i in range(numEpochs):\n",
    "    if i > 1 and diff < .0001:\n",
    "        print(\"change in cost %g; convergence.\"% diff)\n",
    "        break\n",
    "    else:\n",
    "        # Run training step\n",
    "        step = sess.run(training_OP, feed_dict={X: trainX, yGold: trainY})\n",
    "        # Report occasional stats\n",
    "        if i % 10== 0:\n",
    "            # Add epoch to epoch_values\n",
    "            epoch_values.append(i)\n",
    "            # Generate accuracy stats on test data\n",
    "            train_accuracy, newCost = sess.run([accuracy_OP, cost_OP], feed_dict={X: trainX, yGold: trainY})\n",
    "            # Add accuracy to live graphing variable\n",
    "            accuracy_values.append(train_accuracy)\n",
    "            # Add cost to live graphing variable\n",
    "            cost_values.append(newCost)\n",
    "            # Re-assign values for variables\n",
    "            diff = abs(newCost - cost)\n",
    "            cost = newCost\n",
    "\n",
    "            #generate print statements\n",
    "            print(\"step %d, training accuracy %g, cost %g, change in cost %g\"%(i, train_accuracy, newCost, diff))\n",
    "\n",
    "\n",
    "# How well do we perform on held-out test data?\n",
    "print(\"final accuracy on test set: %s\" %str(sess.run(accuracy_OP, \n",
    "                                                     feed_dict={X: testX, \n",
    "                                                                yGold: testY})))\n"
   ]
  },
  {
   "cell_type": "code",
   "execution_count": 107,
   "metadata": {},
   "outputs": [
    {
     "data": {
      "image/png": "[encoded data removed]",
      "text/plain": [
       "<Figure size 432x288 with 1 Axes>"
      ]
     },
     "metadata": {
      "needs_background": "light"
     },
     "output_type": "display_data"
    }
   ],
   "source": [
    "%matplotlib inline\n",
    "import numpy as np\n",
    "import matplotlib.pyplot as plt\n",
    "plt.plot([np.mean(cost_values[i-50:i]) for i in range(len(cost_values))])\n",
    "plt.show()"
   ]
  },
  {
   "cell_type": "code",
   "execution_count": null,
   "metadata": {},
   "outputs": [],
   "source": []
  }
 ],
 "metadata": {
  "kernelspec": {
   "display_name": "Python 3",
   "language": "python",
   "name": "python3"
  },
  "language_info": {
   "codemirror_mode": {
    "name": "ipython",
    "version": 3
   },
   "file_extension": ".py",
   "mimetype": "text/x-python",
   "name": "python",
   "nbconvert_exporter": "python",
   "pygments_lexer": "ipython3",
   "version": "3.6.8"
  }
 },
 "nbformat": 4,
 "nbformat_minor": 2
}
